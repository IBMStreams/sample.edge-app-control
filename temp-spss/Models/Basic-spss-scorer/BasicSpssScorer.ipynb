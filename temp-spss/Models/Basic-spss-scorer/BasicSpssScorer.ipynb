{
 "cells": [
  {
   "cell_type": "code",
   "execution_count": 3,
   "metadata": {
    "id": "681cfd5d85234e6288cb819dc7d1b95b"
   },
   "outputs": [
    {
     "name": "stdout",
     "output_type": "stream",
     "text": [
      "INFO: streamsx package version: 1.17.0\n"
     ]
    }
   ],
   "source": [
    "import json\n",
    "import os\n",
    "import os.path\n",
    "from os import path\n",
    "import logging\n",
    "import typing\n",
    "\n",
    "from icpd_core import icpd_util\n",
    "\n",
    "import streamsx\n",
    "import streamsx.spl.op as op\n",
    "from streamsx.topology import context\n",
    "from streamsx.topology.topology import Topology\n",
    "from streamsx.topology.schema import StreamSchema\n",
    "from streamsx.topology.context import ConfigParams\n",
    "\n",
    "print(\"INFO: streamsx package version: \" + streamsx.topology.context.__version__)"
   ]
  },
  {
   "cell_type": "code",
   "execution_count": 4,
   "metadata": {
    "id": "c15623feb56d4faeb1a2634d0a3d7df2"
   },
   "outputs": [
    {
     "name": "stdout",
     "output_type": "stream",
     "text": [
      "  downloading spss toolkit ... \n",
      "SPSS toolkit has been downloaded to: /home/wsuser/work/spss_toolkit_install_dir/com.ibm.spss.streams.analytics\n"
     ]
    }
   ],
   "source": [
    "# get current dir's\n",
    "current_dir = os.getcwd()\n",
    "\n",
    "spss_toolkit_dir = current_dir + \"/spss_toolkit_install_dir/com.ibm.spss.streams.analytics\"\n",
    "\n",
    "if not path.exists('com.ibm.spss.streams.analytics.tar.gz'):\n",
    "    print(\"  downloading spss toolkit ... \")\n",
    "    os.system('wget -O com.ibm.spss.streams.analytics.tar.gz https://github.com/IBMPredictiveAnalytics/streamsx.spss.v4/raw/master/com.ibm.spss.streams.analytics.tar.gz')\n",
    "    os.system('mkdir -p spss_toolkit_install_dir')\n",
    "    os.system('tar -xzvf com.ibm.spss.streams.analytics.tar.gz -C spss_toolkit_install_dir')\n",
    "  \n",
    "print(\"SPSS toolkit has been downloaded to: \"+ spss_toolkit_dir)    "
   ]
  },
  {
   "cell_type": "code",
   "execution_count": 5,
   "metadata": {
    "id": "e9313a47089745eb92d9f9a8ea6144a5"
   },
   "outputs": [],
   "source": [
    "def print_scores(tpl):\n",
    "    sex = (str) (tpl[\"s_sex\"])\n",
    "    income = (str) (tpl[\"income\"])\n",
    "    predLabel = (str) (tpl[\"predLabel\"])\n",
    "    confidence = (str) (tpl[\"confidence\"])\n",
    "    print(\"Score = sex[\"+sex+\"] income[\"+income+\"] predLabel[\"+predLabel+\"] confidence[\"+confidence+\"]\")\n",
    "\n",
    "import csv\n",
    "import time\n",
    "    \n",
    "class CSVFileReader:\n",
    "    def __init__(self, file_name):\n",
    "        self.file_name = file_name\n",
    "    def __call__(self):\n",
    "        # Convert each row in the file to a dict\n",
    "        header = [\"s_sex\",\"baseSalary\", \"bonusSalary\"]\n",
    "        i = 0\n",
    "        while i < 100 :\n",
    "            with open(streamsx.ec.get_application_directory() + \"/etc/\" +  self.file_name) as handle:\n",
    "                reader = csv.DictReader(handle, delimiter=',',fieldnames=header)\n",
    "                #Use this to skip the header line if your file has one\n",
    "                next(reader)\n",
    "                for row in reader:\n",
    "                    row['baseSalary'] = int(row['baseSalary'])\n",
    "                    row['bonusSalary'] = int(row['bonusSalary'])\n",
    "                    yield row\n",
    "                    time.sleep(1)\n",
    "                handle.close()\n",
    "                i += 1\n",
    "    \n",
    "def create_topology():   \n",
    "    # Create a Streams topology\n",
    "    topo = Topology(name=\"BasicSpssScorer\")\n",
    "\n",
    "    # topo.add_toolkit('/toolkits/com.ibm.spss.streams.analytics')\n",
    "    streamsx.spl.toolkit.add_toolkit(topo, spss_toolkit_dir)\n",
    "\n",
    "    # add spss model files\n",
    "    print(\"adding the spss model files to bundle:   model.par, model.pim, model.xml, model.str\")\n",
    "    path_to_data_sets = \"/project_data/data_asset/\"\n",
    "    topo.add_file_dependency(path_to_data_sets + 'model.par', 'etc')\n",
    "    topo.add_file_dependency(path_to_data_sets + 'model.pim', 'etc')\n",
    "    topo.add_file_dependency(path_to_data_sets + 'model.xml', 'etc')\n",
    "    topo.add_file_dependency(path_to_data_sets + 'model.str', 'etc')\n",
    "    topo.add_file_dependency(path_to_data_sets + 'input.csv', 'etc')\n",
    "\n",
    "    # Data source\n",
    "    \n",
    "    internal_source = topo.source(CSVFileReader(\"input.csv\"),name=\"InputSource\")\n",
    "\n",
    "    input_data_schema  = StreamSchema(\"tuple<rstring s_sex,int64 baseSalary,int64 bonusSalary>\")\n",
    "    output_data_schema = StreamSchema(\"tuple<rstring s_sex,int64 baseSalary,int64 bonusSalary,int64 income,rstring predLabel,float64 confidence>\")\n",
    "\n",
    "    internal_source = internal_source.map(lambda x: (x[\"s_sex\"], x[\"baseSalary\"], x[\"bonusSalary\"]),\n",
    "                    schema=input_data_schema,\n",
    "                    name=\"Convert Schema\")\n",
    "\n",
    "    scoring = op.Map(name=\"SPSS Scorer\", kind='com.ibm.spss.streams.analytics::SPSSScoring', stream=internal_source, schema=output_data_schema )\n",
    "    scoring.params['pimfile'] = streamsx.spl.op.Expression.expression('getThisToolkitDir()+\"' + '/etc/model.pim\"')\n",
    "    scoring.params['parfile'] = streamsx.spl.op.Expression.expression('getThisToolkitDir()+\"' + '/etc/model.par\"')\n",
    "    scoring.params['xmlfile'] = streamsx.spl.op.Expression.expression('getThisToolkitDir()+\"' + '/etc/model.xml\"')\n",
    "    scoring.params['modelFields'] = [\"sex\", \"income\"]\n",
    "    # scoring.params['streamAttributes'] = scoring.attribute(\"s_sex, baseSalary+bonusSalary\")\n",
    "    scoring.params['streamAttributes'] = scoring.attribute(\"s_sex, baseSalary\")\n",
    "\n",
    "    scoring.income = scoring.output('fromModel(\"income\")')\n",
    "    scoring.predLabel = scoring.output('fromModel(\"$C-beer_beans_pizza\")')\n",
    "    scoring.confidence = scoring.output('fromModel(\"$CC-beer_beans_pizza\")')\n",
    "\n",
    "    scoring_stream = scoring.stream\n",
    "\n",
    "    scoring_stream.for_each(print_scores, name=\"Score Summary\")\n",
    "    \n",
    "    print(\"topology created successfully\")\n",
    "    \n",
    "    return topo\n"
   ]
  },
  {
   "cell_type": "code",
   "execution_count": 6,
   "metadata": {
    "id": "e5d20157dccb4ff08ce76c95027fd833"
   },
   "outputs": [],
   "source": [
    "\n",
    "def submit(topo):\n",
    "    streams_instance_name = \"sample-streams\" ## Change this to Streams instance\n",
    "    try:\n",
    "        cfg=icpd_util.get_service_instance_details(name=streams_instance_name, instance_type=\"streams\")\n",
    "    except TypeError:\n",
    "        cfg=icpd_util.get_service_instance_details(name=streams_instance_name)\n",
    "\n",
    "    job_config = streamsx.topology.context.JobConfig()\n",
    "    job_config.raw_overlay = {\n",
    "        'edgeConfig': {'imageName': 'edge-basicspssscorer4', 'baseImage': 'streams-base-edge-spss-python-el7:v5_r_5.5.0.0_latest',\n",
    "                   'pipPackages': ['pandas']}}\n",
    "    job_config.add(cfg)\n",
    "    cfg[context.ConfigParams.SSL_VERIFY] = False\n",
    "    cfg['topology.keepArtifacts'] = True\n",
    "\n",
    "    #print(cfg)\n",
    "    submission_result = context.submit(context.ContextTypes.EDGE, topo, config=cfg)\n",
    "\n",
    "    return submission_result"
   ]
  },
  {
   "cell_type": "code",
   "execution_count": 7,
   "metadata": {
    "id": "cb262583d8124bee835f3d151a59e906"
   },
   "outputs": [
    {
     "name": "stdout",
     "output_type": "stream",
     "text": [
      "\n",
      "Creating topology\n",
      "adding the following files to bundle: input.csv,model.par,model.pim,model.xml,model.str\n",
      "topology created successfully\n",
      "Submitting Topology to Streams for execution..\n"
     ]
    },
    {
     "data": {
      "application/vnd.jupyter.widget-view+json": {
       "model_id": "b098ca34b0f34ffb914997c54d57f18a",
       "version_major": 2,
       "version_minor": 0
      },
      "text/plain": [
       "IntProgress(value=0, bar_style='info', description='Initializing', max=10, style=ProgressStyle(description_wid…"
      ]
     },
     "metadata": {},
     "output_type": "display_data"
    },
    {
     "name": "stderr",
     "output_type": "stream",
     "text": [
      "Insecure host connections enabled.\n",
      "Insecure host connections enabled.\n",
      "Insecure host connections enabled.\n"
     ]
    },
    {
     "name": "stdout",
     "output_type": "stream",
     "text": [
      "\n",
      "Image built: image-registry.openshift-image-registry.svc:5000/edge35/edge-basicspssscorer4:streamsx\n",
      " \n",
      "{'toolkitRoot': '/tmp/tk5466645246806237553', 'archivePath': '/tmp/code_archive5648571303035944724.zip', 'submitMetrics': {'buildArchiveSize': 3906453, 'buildArchiveUploadTime_ms': 239, 'buildState_submittedTime_ms': 23, 'buildState_buildingTime_ms': 22169, 'totalBuildTime_ms': 23201}, 'build': {'name': None, 'artifacts': [{'sabUrl': 'https://build-sample-streams-build.edge35:8445/streams/v1/builds/134/artifacts/0/applicationbundle', 'imageDigest': 'sha256:011f92a3d2d48e8ae86a60233fd23174fbc1b1e404e65b90a2a47be5227bcd8b', 'image': 'image-registry.openshift-image-registry.svc:5000/edge35/edge-basicspssscorer4:streamsx'}]}, 'submitImageMetrics': {'buildState_submittedTime_ms': 29, 'buildState_buildingTime_ms': 284775, 'totalBuildTime_ms': 285809}, 'totalBuildTime_ms': 309010, 'imageDigest': 'sha256:011f92a3d2d48e8ae86a60233fd23174fbc1b1e404e65b90a2a47be5227bcd8b', 'image': 'image-registry.openshift-image-registry.svc:5000/edge35/edge-basicspssscorer4:streamsx', 'return_code': 0, '_submitter': <streamsx.topology.context._EdgeSubmitter object at 0x7f02ac620e48>}\n",
      "DONE\n"
     ]
    }
   ],
   "source": [
    "print(\"\")\n",
    "print(\"Creating topology\")\n",
    "myTopology = create_topology()\n",
    "print(\"Submitting Topology to Streams/Edge image builder.\")\n",
    "submission_result = submit(myTopology)\n",
    "print(\"\")\n",
    "print(\"Image built: \"+submission_result[\"image\"])\n",
    "print(\" \")\n",
    "\n",
    "print(submission_result)\n",
    "\n",
    "print(\"DONE\")"
   ]
  },
  {
   "cell_type": "code",
   "execution_count": null,
   "metadata": {
    "id": "d8e89fbd6bf1489f88d3b44d70494046"
   },
   "outputs": [],
   "source": []
  }
 ],
 "metadata": {
  "kernelspec": {
   "display_name": "Python 3.6",
   "language": "python",
   "name": "python3"
  },
  "language_info": {
   "codemirror_mode": {
    "name": "ipython",
    "version": 3
   },
   "file_extension": ".py",
   "mimetype": "text/x-python",
   "name": "python",
   "nbconvert_exporter": "python",
   "pygments_lexer": "ipython3",
   "version": "3.6.10"
  }
 },
 "nbformat": 4,
 "nbformat_minor": 1
}
